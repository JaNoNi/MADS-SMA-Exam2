{
 "cells": [
  {
   "cell_type": "markdown",
   "id": "8f8b5102-3367-4b8f-9d7c-bb17bc5f173c",
   "metadata": {},
   "source": [
    "# Sentiment analysis Part 2\n",
    "---\n",
    "<b>MADS-DL Portfolio-Exam Part 2<br>\n",
    "<b>Janosch Höfer, 938969</b>"
   ]
  },
  {
   "cell_type": "markdown",
   "id": "88f6d215-efc8-4efd-a06e-050a61fb29c8",
   "metadata": {},
   "source": [
    "## Table of contents\n",
    "\n",
    "- [Introduction](#intro) <br>\n",
    "- [1. Data preparation](#data-prep) <br>\n",
    "    - [1.1 Preprocessing](#preproc)<br>\n",
    "- [2. Network Analysis](#network) <br>\n",
    "    - [2.1. Clean the POSs](#clean_pos) <br>\n",
    "    - [2.2. Create Nodes and Edges](#node_edge)<br>\n",
    "    - [2.3. Create Network Graph](#netgraph)<br>\n",
    "- [3. Twitters POS](#twitter_pos) <br>\n",
    "- [4. Result](#result)<br>"
   ]
  },
  {
   "cell_type": "markdown",
   "id": "81fd3f4f-c011-4e39-895a-df826fe82e63",
   "metadata": {},
   "source": [
    "## Introduction\n",
    "\n",
    "In the last examination we have performed a sentiment analysis on tweets referring to the infamous #slapgate event during the Oscars on March 27th. For that we have used the Twitter API to obtain the tweets, stored them on a Mongo database, and used different Deep Learning models to extract the intent of each tweet. We have used three models provided by [Hugging Face](https://huggingface.co/) and trained two models ourselves. In this second part we will use the results from last time and analyze the relations between the tweets."
   ]
  },
  {
   "cell_type": "code",
   "execution_count": 1,
   "id": "63c46190-c789-460f-b4f6-2b9baa11fc41",
   "metadata": {
    "tags": []
   },
   "outputs": [],
   "source": [
    "import json\n",
    "import re\n",
    "from collections import Counter\n",
    "from itertools import chain, combinations\n",
    "from json import JSONDecodeError\n",
    "\n",
    "import matplotlib.cm as cm\n",
    "import matplotlib.pyplot as plt\n",
    "import networkx as nx\n",
    "import numpy as np\n",
    "import pandas as pd\n",
    "import seaborn as sns\n",
    "import spacy\n",
    "from community import community_louvain\n",
    "from matplotlib.ticker import PercentFormatter\n",
    "from pyvis.network import Network\n",
    "from tqdm.notebook import tqdm"
   ]
  },
  {
   "cell_type": "code",
   "execution_count": 2,
   "id": "0b71a604-04e4-4677-8269-8ea8612f6859",
   "metadata": {},
   "outputs": [],
   "source": [
    "sns.set_style(\"whitegrid\")\n",
    "sns.set_palette(sns.color_palette(\"ch:s=2.5,rot=.15\"))\n",
    "cmap = sns.color_palette((\"ch:s=2.5,rot=.15\"), as_cmap=True)"
   ]
  },
  {
   "cell_type": "markdown",
   "id": "c67e06ae-9500-4e07-bd50-fc1b238f86e4",
   "metadata": {},
   "source": [
    "---\n",
    "<a id='data-prep'></a>"
   ]
  },
  {
   "cell_type": "markdown",
   "id": "407cc03d-764c-4c6f-bcb6-5613046b0e35",
   "metadata": {},
   "source": [
    "## 1. Data preparation\n",
    "\n",
    "Similar to last time we will use parquet files to store and load results. "
   ]
  },
  {
   "cell_type": "code",
   "execution_count": 3,
   "id": "6c235300-f247-449c-a744-53d2c36ae7ea",
   "metadata": {},
   "outputs": [],
   "source": [
    "df = pd.read_parquet(\"data/slapgate_twitter_mymodel2\", engine=\"pyarrow\")"
   ]
  },
  {
   "cell_type": "markdown",
   "id": "c73a2d55-7182-4d87-a8b8-5b4cb3617a47",
   "metadata": {},
   "source": [
    "We load the original data stored in our database."
   ]
  },
  {
   "cell_type": "code",
   "execution_count": 4,
   "id": "63de7358-1562-4a82-b040-dd725be2a330",
   "metadata": {},
   "outputs": [
    {
     "data": {
      "text/html": [
       "<div>\n",
       "<style scoped>\n",
       "    .dataframe tbody tr th:only-of-type {\n",
       "        vertical-align: middle;\n",
       "    }\n",
       "\n",
       "    .dataframe tbody tr th {\n",
       "        vertical-align: top;\n",
       "    }\n",
       "\n",
       "    .dataframe thead th {\n",
       "        text-align: right;\n",
       "    }\n",
       "</style>\n",
       "<table border=\"1\" class=\"dataframe\">\n",
       "  <thead>\n",
       "    <tr style=\"text-align: right;\">\n",
       "      <th></th>\n",
       "      <th>_id</th>\n",
       "      <th>reply_settings</th>\n",
       "      <th>conversation_id</th>\n",
       "      <th>source</th>\n",
       "      <th>entities</th>\n",
       "      <th>author_id</th>\n",
       "      <th>context_annotations</th>\n",
       "      <th>created_at</th>\n",
       "      <th>public_metrics</th>\n",
       "      <th>text</th>\n",
       "      <th>lang</th>\n",
       "      <th>possibly_sensitive</th>\n",
       "      <th>referenced_tweets</th>\n",
       "      <th>geo</th>\n",
       "      <th>in_reply_to_user_id</th>\n",
       "      <th>attachments</th>\n",
       "      <th>withheld</th>\n",
       "      <th>emotions_label</th>\n",
       "      <th>emotions_score</th>\n",
       "      <th>more_emotions_label</th>\n",
       "    </tr>\n",
       "  </thead>\n",
       "  <tbody>\n",
       "    <tr>\n",
       "      <th>0</th>\n",
       "      <td>1509190435394277380</td>\n",
       "      <td>everyone</td>\n",
       "      <td>1509190435394277380</td>\n",
       "      <td>Twitter for iPhone</td>\n",
       "      <td>{'annotations': [{'start': 5, 'end': 9, 'proba...</td>\n",
       "      <td>193318978</td>\n",
       "      <td>[{'domain': {'id': '118', 'name': 'Award Show'...</td>\n",
       "      <td>2022-03-30 15:26:53+00:00</td>\n",
       "      <td>{'retweet_count': 0, 'reply_count': 0, 'like_c...</td>\n",
       "      <td>Will Smith should have been kicked out of the ...</td>\n",
       "      <td>en</td>\n",
       "      <td>False</td>\n",
       "      <td>None</td>\n",
       "      <td>None</td>\n",
       "      <td>NaN</td>\n",
       "      <td>None</td>\n",
       "      <td>None</td>\n",
       "      <td>anger</td>\n",
       "      <td>0.996816</td>\n",
       "      <td>anger</td>\n",
       "    </tr>\n",
       "    <tr>\n",
       "      <th>1</th>\n",
       "      <td>1509190219513446407</td>\n",
       "      <td>everyone</td>\n",
       "      <td>1509190219513446407</td>\n",
       "      <td>Twitter for iPhone</td>\n",
       "      <td>{'annotations': [{'start': 13, 'end': 17, 'pro...</td>\n",
       "      <td>1425906686347419655</td>\n",
       "      <td>[{'domain': {'id': '118', 'name': 'Award Show'...</td>\n",
       "      <td>2022-03-30 15:26:02+00:00</td>\n",
       "      <td>{'retweet_count': 0, 'reply_count': 0, 'like_c...</td>\n",
       "      <td>Could a Will Smith Roast get bonded or insured...</td>\n",
       "      <td>en</td>\n",
       "      <td>False</td>\n",
       "      <td>None</td>\n",
       "      <td>None</td>\n",
       "      <td>NaN</td>\n",
       "      <td>None</td>\n",
       "      <td>None</td>\n",
       "      <td>joy</td>\n",
       "      <td>0.821839</td>\n",
       "      <td>fear</td>\n",
       "    </tr>\n",
       "  </tbody>\n",
       "</table>\n",
       "</div>"
      ],
      "text/plain": [
       "                   _id reply_settings      conversation_id  \\\n",
       "0  1509190435394277380       everyone  1509190435394277380   \n",
       "1  1509190219513446407       everyone  1509190219513446407   \n",
       "\n",
       "               source                                           entities  \\\n",
       "0  Twitter for iPhone  {'annotations': [{'start': 5, 'end': 9, 'proba...   \n",
       "1  Twitter for iPhone  {'annotations': [{'start': 13, 'end': 17, 'pro...   \n",
       "\n",
       "             author_id                                context_annotations  \\\n",
       "0            193318978  [{'domain': {'id': '118', 'name': 'Award Show'...   \n",
       "1  1425906686347419655  [{'domain': {'id': '118', 'name': 'Award Show'...   \n",
       "\n",
       "                  created_at  \\\n",
       "0  2022-03-30 15:26:53+00:00   \n",
       "1  2022-03-30 15:26:02+00:00   \n",
       "\n",
       "                                      public_metrics  \\\n",
       "0  {'retweet_count': 0, 'reply_count': 0, 'like_c...   \n",
       "1  {'retweet_count': 0, 'reply_count': 0, 'like_c...   \n",
       "\n",
       "                                                text lang  possibly_sensitive  \\\n",
       "0  Will Smith should have been kicked out of the ...   en               False   \n",
       "1  Could a Will Smith Roast get bonded or insured...   en               False   \n",
       "\n",
       "  referenced_tweets   geo  in_reply_to_user_id attachments withheld  \\\n",
       "0              None  None                  NaN        None     None   \n",
       "1              None  None                  NaN        None     None   \n",
       "\n",
       "  emotions_label  emotions_score more_emotions_label  \n",
       "0          anger        0.996816               anger  \n",
       "1            joy        0.821839                fear  "
      ]
     },
     "execution_count": 4,
     "metadata": {},
     "output_type": "execute_result"
    }
   ],
   "source": [
    "df.iloc[:2, :20]"
   ]
  },
  {
   "cell_type": "markdown",
   "id": "8b0f20e0-d9dc-458b-8962-cdbee300ac08",
   "metadata": {},
   "source": [
    "And also the predicted labels. Again we can see the inconsictencies between the different models. For our further analysis we will use the models predicted by our last model which perfomed the best."
   ]
  },
  {
   "cell_type": "code",
   "execution_count": 5,
   "id": "f984f7ee-805a-4b0e-88e1-19a76342ae16",
   "metadata": {},
   "outputs": [
    {
     "data": {
      "text/html": [
       "<div>\n",
       "<style scoped>\n",
       "    .dataframe tbody tr th:only-of-type {\n",
       "        vertical-align: middle;\n",
       "    }\n",
       "\n",
       "    .dataframe tbody tr th {\n",
       "        vertical-align: top;\n",
       "    }\n",
       "\n",
       "    .dataframe thead th {\n",
       "        text-align: right;\n",
       "    }\n",
       "</style>\n",
       "<table border=\"1\" class=\"dataframe\">\n",
       "  <thead>\n",
       "    <tr style=\"text-align: right;\">\n",
       "      <th></th>\n",
       "      <th>more_emotions_score</th>\n",
       "      <th>spam_label</th>\n",
       "      <th>spam_score</th>\n",
       "      <th>mymodel2_label</th>\n",
       "      <th>mymodel2_score</th>\n",
       "    </tr>\n",
       "  </thead>\n",
       "  <tbody>\n",
       "    <tr>\n",
       "      <th>0</th>\n",
       "      <td>0.668483</td>\n",
       "      <td>LABEL_0</td>\n",
       "      <td>0.934566</td>\n",
       "      <td>joy</td>\n",
       "      <td>0.266241</td>\n",
       "    </tr>\n",
       "    <tr>\n",
       "      <th>1</th>\n",
       "      <td>0.685336</td>\n",
       "      <td>LABEL_1</td>\n",
       "      <td>0.580916</td>\n",
       "      <td>surprise</td>\n",
       "      <td>0.841553</td>\n",
       "    </tr>\n",
       "    <tr>\n",
       "      <th>2</th>\n",
       "      <td>0.368798</td>\n",
       "      <td>LABEL_1</td>\n",
       "      <td>0.833983</td>\n",
       "      <td>spam</td>\n",
       "      <td>0.746672</td>\n",
       "    </tr>\n",
       "    <tr>\n",
       "      <th>3</th>\n",
       "      <td>0.971441</td>\n",
       "      <td>LABEL_0</td>\n",
       "      <td>0.937574</td>\n",
       "      <td>anger</td>\n",
       "      <td>0.723157</td>\n",
       "    </tr>\n",
       "    <tr>\n",
       "      <th>4</th>\n",
       "      <td>0.357992</td>\n",
       "      <td>LABEL_1</td>\n",
       "      <td>0.689152</td>\n",
       "      <td>joy</td>\n",
       "      <td>0.268935</td>\n",
       "    </tr>\n",
       "  </tbody>\n",
       "</table>\n",
       "</div>"
      ],
      "text/plain": [
       "   more_emotions_score spam_label  spam_score mymodel2_label  mymodel2_score\n",
       "0             0.668483    LABEL_0    0.934566            joy        0.266241\n",
       "1             0.685336    LABEL_1    0.580916       surprise        0.841553\n",
       "2             0.368798    LABEL_1    0.833983           spam        0.746672\n",
       "3             0.971441    LABEL_0    0.937574          anger        0.723157\n",
       "4             0.357992    LABEL_1    0.689152            joy        0.268935"
      ]
     },
     "execution_count": 5,
     "metadata": {},
     "output_type": "execute_result"
    }
   ],
   "source": [
    "df.iloc[:5, 20:]"
   ]
  },
  {
   "cell_type": "code",
   "execution_count": 6,
   "id": "e1c7645d-8b65-46cd-9d8a-cf0ec073b186",
   "metadata": {},
   "outputs": [
    {
     "data": {
      "image/png": "[encoded data removed]",
      "text/plain": [
       "<Figure size 1350x540 with 1 Axes>"
      ]
     },
     "metadata": {
      "needs_background": "light"
     },
     "output_type": "display_data"
    }
   ],
   "source": [
    "ax = plt.figure(figsize=(15, 6), dpi=90)\n",
    "ax = sns.countplot(data=df, x=\"mymodel2_label\")\n",
    "ax.set_xlabel(\"Emotions\")\n",
    "ax.set_ylabel(\"Count\")\n",
    "for p in ax.patches:\n",
    "    ax.annotate(\"{:>5,d}\".format(p.get_height()), (p.get_x() + 0.3, p.get_height() + 100))\n",
    "ax.xaxis.set_tick_params(which=\"both\", labelleft=True)\n",
    "ax.set_title(\"Predictions using 'my distilbert-model2'\")\n",
    "plt.show()"
   ]
  },
  {
   "cell_type": "markdown",
   "id": "23c0bff7-f70a-4372-a411-8fb8054715c2",
   "metadata": {},
   "source": [
    "Looking at the distribution of emotions we see that the Twitter users are mostly divided between angry and joyfull. And this coincides with the previous observations of the tweets. Most people were either making jokes about the event or were shocked by the display of violence and lack of direct consequences by the Oscars organisers."
   ]
  },
  {
   "cell_type": "code",
   "execution_count": 7,
   "id": "77eacee6-0871-41ca-b045-09794036d3ec",
   "metadata": {},
   "outputs": [],
   "source": [
    "others = df.groupby(\"source\").count().sort_values(\"_id\", ascending=False).index[5:]\n",
    "df_source = df.replace(others, \"Other\")\n",
    "df_src_grp = df_source.groupby([\"source\", \"mymodel2_label\"]).count().reset_index().iloc[:, :3]"
   ]
  },
  {
   "cell_type": "code",
   "execution_count": 8,
   "id": "a78e2093-6a2c-4eaa-a664-e0601b2a8acb",
   "metadata": {},
   "outputs": [],
   "source": [
    "df_src_grp_sum = df_src_grp.groupby(\"source\").agg([\"count\", \"sum\"])\n",
    "df_src_grp_sum.columns = [\"_\".join(col) for col in df_src_grp_sum.columns.values]"
   ]
  },
  {
   "cell_type": "code",
   "execution_count": 9,
   "id": "9f1f9b8a-896e-4f02-badc-20568f9063aa",
   "metadata": {},
   "outputs": [],
   "source": [
    "df_src_grp_t = pd.merge(\n",
    "    df_src_grp, df_src_grp_sum.reset_index()[[\"source\", \"_id_sum\"]], on=\"source\"\n",
    ")\n",
    "df_src_grp_t[\"_id_perc\"] = df_src_grp_t[\"_id\"] / df_src_grp_t[\"_id_sum\"]"
   ]
  },
  {
   "cell_type": "code",
   "execution_count": 10,
   "id": "4aa67b06-6690-48ed-b5bf-47382d10c0d0",
   "metadata": {},
   "outputs": [
    {
     "data": {
      "image/png": "[encoded data removed]",
      "text/plain": [
       "<Figure size 1350x540 with 1 Axes>"
      ]
     },
     "metadata": {
      "needs_background": "light"
     },
     "output_type": "display_data"
    }
   ],
   "source": [
    "ax = plt.figure(figsize=(15, 6), dpi=90)\n",
    "ax = sns.barplot(data=df_src_grp_t, x=\"mymodel2_label\", y=\"_id_perc\", hue=\"source\")\n",
    "ax.set_xlabel(\"Emotions\")\n",
    "ax.set_ylabel(\"%-Emotion\")\n",
    "ax.yaxis.set_major_formatter(PercentFormatter(xmax=1))\n",
    "ax.set_title(\"Predicted Sentiment per source\")\n",
    "ax.text(1, 0.45, \"Instragram Tweets\")\n",
    "plt.plot([0.7, 0.99], [0.5, 0.455], \"k-\", lw=1)\n",
    "plt.plot([1.53, 1.65], [0.455, 0.06], \"k-\", lw=1)\n",
    "ax.text(3, 0.21, \"Smartphones\")\n",
    "plt.plot([3.15, 3.05], [0.2, 0.06], \"k-\", lw=1)\n",
    "plt.plot([3.25, 3.35], [0.2, 0.06], \"k-\", lw=1)\n",
    "plt.show()"
   ]
  },
  {
   "cell_type": "markdown",
   "id": "745bd91d-6fff-40ac-9253-a9a69fa2d4f9",
   "metadata": {},
   "source": [
    "Looking at the five most used devices we see that most emotions are evenly distributed among the devices. But two types of device sources have interesting results. The first are the tweets that have Instagram as their source. In those cases the user has linked their Instagram account to their Twitter account and can share photos posted on Instagram directly on Twitter. Those tweets are mostly joyful with very few angry or sad posts. This plausible since most of the content posted to Instagram is supposed to be positiv. Unlike Twitter, Instagram is usually not used for negative content and more often used for memes.<br>\n",
    "The second interesting device source are the Android and iPhone App. Tweets with those devices as source post the least amount of spam tweets. This is also plausible, because most spam accounts use the other Twitter devices. Here, our model also had the highest accuracy.<br>\n",
    "Staying witht the spam tweets, we can also observe that the Instagram tweets post more spam than the other devices. The reason for this could be, that some of the memes posted to Instagram are identified as spam."
   ]
  },
  {
   "cell_type": "code",
   "execution_count": 11,
   "id": "f78e3c4a-998b-4148-91ab-4f853777e600",
   "metadata": {},
   "outputs": [
    {
     "name": "stdout",
     "output_type": "stream",
     "text": [
      "Tweet: Why @willsmith .. omg ok @redtabletalk  ASAP @jadapinkettsmith  and @willowsmith ‼️‼️‼️ #Oscars #chrisrock #explorepage #fyp #INeedAnswers 😭 https://t.co/2aqIa05DK3\n",
      "\n",
      "Tweet: #oscars #oscars2022 #willsmith #chrisrock #willsmithslapschrisrock @ Torrance, California https://t.co/SZDBMuWwqX\n",
      "\n"
     ]
    }
   ],
   "source": [
    "for txt in df[(df[\"source\"] == \"Instagram\") & (df[\"mymodel2_label\"] == \"spam\")].sample(2)[\"text\"]:\n",
    "    print(f\"Tweet: {txt}\\n\")"
   ]
  },
  {
   "cell_type": "markdown",
   "id": "2e4acd5a-e396-4abb-b7b2-a4e9f3f9b7fe",
   "metadata": {},
   "source": [
    "<a id='preproc'></a>"
   ]
  },
  {
   "cell_type": "markdown",
   "id": "db33b3bd-8eb2-43e3-adc2-94ba65acef25",
   "metadata": {},
   "source": [
    "### Preprocessing\n",
    "\n",
    "Before we begin with our network analysis, we repeat the preprocessing steps from last time. For that we will correct two aspects. The first is to identify and remove potential spam accounts and the second is to make the tweets' text more machine readable. For the possible spam accounts we remove accounts that have posted an excessive amount of tweets. Below we can see that we have accounts with more 100 tweets in our short time frame. Although some power users might sent this many tweets, I will remove those frequent posters in an attempt to get rid of possible spam tweets posted by (probably) bots. Below are some example spam-tweets. Those 149 accounts are responsible for ~3.500 tweets. More than half of these tweets have been posted via the Web App, which speaks for a possible bot."
   ]
  },
  {
   "cell_type": "code",
   "execution_count": 12,
   "id": "9baac9e6-b9fe-4b3b-acec-1862dc975ff6",
   "metadata": {},
   "outputs": [],
   "source": [
    "df_grouped = df.groupby(\"author_id\").count().sort_values(by=\"_id\", ascending=False)\n",
    "spammer_ids = df_grouped[df_grouped[\"_id\"] >= 10].reset_index()[\"author_id\"]"
   ]
  },
  {
   "cell_type": "code",
   "execution_count": 13,
   "id": "18d665fc-6783-4fe7-9c99-bf20ceb615f8",
   "metadata": {},
   "outputs": [],
   "source": [
    "df = df.drop(df[df[\"author_id\"].isin(spammer_ids)].index, axis=0)"
   ]
  },
  {
   "cell_type": "markdown",
   "id": "e19906c3-d851-4d8d-9a4e-f9403e4eb28f",
   "metadata": {},
   "source": [
    "Next we will edit the tweets themselves. Many users have used the special character & which is encoded as & and will be converted to the word and. Additionally we remove all '@' and '#' symbols to make the text more readable. The example below shows how many users use hashtags and @ as part of their speech in the tweets. Therefore, completely removing the hashtags would remove some meaning of the origin text. We also remove all hyperlinks from the tweets because those produce many false positives."
   ]
  },
  {
   "cell_type": "code",
   "execution_count": 14,
   "id": "89075161-0614-44a0-a67c-c79c1dd632ff",
   "metadata": {},
   "outputs": [],
   "source": [
    "def preproc_tweets(txt: str):\n",
    "    new_txt = txt.replace(\"&amp;\", \"and\")\n",
    "    new_txt = new_txt.replace(\"@\", \"\")\n",
    "    new_txt = new_txt.replace(\"#\", \"\")\n",
    "    new_txt = re.sub(\n",
    "        r\"(http|https|ftp|ftps)\\:\\/\\/[a-zA-Z0-9\\-\\.]+\\.[a-zA-Z]{2,3}(\\/\\S*)?\", \"\", new_txt\n",
    "    )\n",
    "    return new_txt"
   ]
  },
  {
   "cell_type": "code",
   "execution_count": 15,
   "id": "e87b0b85-2d4d-4694-afe7-46f7d84ff85b",
   "metadata": {},
   "outputs": [
    {
     "data": {
      "text/plain": [
       "'I knew these #Whitesupremacist #Racist who support #NeoNazi,#Nazis,&amp; #Nazism in #Ukraine were going to start saying,#BlackOnBlackCrime with this whole #willsmithchrisrock slap thing. #WillSmith #ChrisRock,#Oscars,#Oscars2022 #EndWhitesupremacy #EndWhiteness'"
      ]
     },
     "execution_count": 15,
     "metadata": {},
     "output_type": "execute_result"
    }
   ],
   "source": [
    "df[\"text\"].loc[7763:7764].iloc[0]"
   ]
  },
  {
   "cell_type": "code",
   "execution_count": 16,
   "id": "686848ba-a0a2-435e-9a87-605dd135f294",
   "metadata": {},
   "outputs": [
    {
     "data": {
      "text/plain": [
       "'I knew these Whitesupremacist Racist who support NeoNazi,Nazis,and Nazism in Ukraine were going to start saying,BlackOnBlackCrime with this whole willsmithchrisrock slap thing. WillSmith ChrisRock,Oscars,Oscars2022 EndWhitesupremacy EndWhiteness'"
      ]
     },
     "execution_count": 16,
     "metadata": {},
     "output_type": "execute_result"
    }
   ],
   "source": [
    "df[\"text\"].loc[7763:7764].apply(preproc_tweets).iloc[0]"
   ]
  },
  {
   "cell_type": "markdown",
   "id": "0b209d9d-43bc-4745-89b4-b5d28352246b",
   "metadata": {},
   "source": [
    "We apply our preprocessing steps on the tweets."
   ]
  },
  {
   "cell_type": "code",
   "execution_count": 17,
   "id": "07f10651-c3ab-40fd-a131-8e6508b81f51",
   "metadata": {},
   "outputs": [],
   "source": [
    "df[\"text\"] = df[\"text\"].apply(preproc_tweets)"
   ]
  },
  {
   "cell_type": "markdown",
   "id": "422586d9-5a98-493f-bee3-8f82a647d2d1",
   "metadata": {},
   "source": [
    "---\n",
    "<a id='network'></a>"
   ]
  },
  {
   "cell_type": "markdown",
   "id": "0ea81994-66d4-47b9-8867-a40aff1beaf3",
   "metadata": {},
   "source": [
    "## 2. Network Analysis\n",
    "\n",
    "To create the relationship network we will use Spacy's pretrained NLP pipeline. This pretrained pipeline arleady comes with a part-of-speech (POS) tagger that we will use to identify verbs, adjectives and proper nouns."
   ]
  },
  {
   "cell_type": "code",
   "execution_count": 18,
   "id": "85346f8d-fee2-4fc1-9213-46db720436fd",
   "metadata": {},
   "outputs": [],
   "source": [
    "nlp = spacy.load(\"en_core_web_sm\")"
   ]
  },
  {
   "cell_type": "code",
   "execution_count": 19,
   "id": "835a133d-7738-4ec7-8252-7db7731b2e96",
   "metadata": {},
   "outputs": [
    {
     "data": {
      "application/vnd.jupyter.widget-view+json": {
       "model_id": "a18112c0d3fe42fb8686c9379d77b7a0",
       "version_major": 2,
       "version_minor": 0
      },
      "text/plain": [
       "  0%|          | 0/39378 [00:00<?, ?it/s]"
      ]
     },
     "metadata": {},
     "output_type": "display_data"
    }
   ],
   "source": [
    "verbs = list()\n",
    "adj = list()\n",
    "propn = list()\n",
    "for idx in tqdm(range(len(df))):\n",
    "    _id = df.iloc[idx, :][\"conversation_id\"]\n",
    "    doc = nlp(df.iloc[idx, :][\"text\"])\n",
    "    for token in doc:\n",
    "        if token.pos_ == \"VERB\":\n",
    "            verbs.append([_id, token.text])\n",
    "        elif token.pos_ == \"ADJ\":\n",
    "            adj.append([_id, token.text])\n",
    "        elif token.pos_ == \"PROPN\":\n",
    "            propn.append([_id, token.text])"
   ]
  },
  {
   "cell_type": "markdown",
   "id": "3bd79654-d61d-4cd8-ae5b-25419618c2a4",
   "metadata": {},
   "source": [
    "We create three DataFrames containing the conversation ID and the respective POS tags. Instead of the unique tweet ID we are using the conversation IDs because we want to get the sentiment of conversation."
   ]
  },
  {
   "cell_type": "code",
   "execution_count": 20,
   "id": "b841726a-16db-4dc8-96be-8d8c0e0dc7df",
   "metadata": {},
   "outputs": [],
   "source": [
    "df_verbs = pd.DataFrame(verbs, columns=[\"ids\", \"verbs\"])\n",
    "df_adj = pd.DataFrame(adj, columns=[\"ids\", \"adjectives\"])\n",
    "df_propn = pd.DataFrame(propn, columns=[\"ids\", \"proper_noun\"])"
   ]
  },
  {
   "cell_type": "markdown",
   "id": "ae656235-0711-4ea9-b7c8-c16d449d9835",
   "metadata": {},
   "source": [
    "<a id='clean_pos'></a>"
   ]
  },
  {
   "cell_type": "markdown",
   "id": "475850b4-fc00-45d0-8bb2-f3f3ffd583e8",
   "metadata": {},
   "source": [
    "### 2.1. Clean the POSs"
   ]
  },
  {
   "cell_type": "markdown",
   "id": "70348c28-1dfa-4704-aa56-38890176110c",
   "metadata": {},
   "source": [
    "After we have extracted the verbs, adjectives and proper nouns we must remove some wrongly classified words. One of those misclassifications are tokens starting with ´. In those cases Spacy has wrongly identified the abbreviations of words such as is or not (e.g. haven't or it's)."
   ]
  },
  {
   "cell_type": "code",
   "execution_count": 21,
   "id": "228330ff-86d8-49ca-9b3f-e4718ce6a805",
   "metadata": {},
   "outputs": [],
   "source": [
    "conditions = (\n",
    "    df_verbs[\"verbs\"].str.startswith(\"’\")\n",
    "    | df_verbs[\"verbs\"].str[0].str.isupper()\n",
    "    | df_verbs[\"verbs\"].str.contains(\"smith\")\n",
    "    | df_verbs[\"verbs\"].str.contains(\"chris\")\n",
    "    | df_verbs[\"verbs\"].str.contains(\"oscar\")\n",
    "    | (df_verbs[\"verbs\"].str.len() <= 2)\n",
    ")\n",
    "df_verbs = df_verbs.drop(df_verbs[conditions].index)"
   ]
  },
  {
   "cell_type": "code",
   "execution_count": 22,
   "id": "315aa2bf-3431-441b-88ce-c5f69c8a2a0c",
   "metadata": {},
   "outputs": [],
   "source": [
    "conditions = (\n",
    "    df_adj[\"adjectives\"].str.startswith(\"’\")\n",
    "    | df_adj[\"adjectives\"].str[0].str.isupper()\n",
    "    | df_adj[\"adjectives\"].str.contains(\"smith\")\n",
    "    | df_adj[\"adjectives\"].str.contains(\"chris\")\n",
    "    | df_adj[\"adjectives\"].str.contains(\"oscar\")\n",
    "    | (df_adj[\"adjectives\"].str.len() <= 2)\n",
    ")\n",
    "df_adj = df_adj.drop(df_adj[conditions].index)"
   ]
  },
  {
   "cell_type": "code",
   "execution_count": 23,
   "id": "21a83a9f-60b3-4202-bb87-968e6e63dd1a",
   "metadata": {},
   "outputs": [],
   "source": [
    "conditions = df_propn[\"proper_noun\"].str.len() <= 2\n",
    "df_propn = df_propn.drop(df_propn[conditions].index)\n",
    "df_propn[\"proper_noun\"] = df_propn[\"proper_noun\"].str.lower()"
   ]
  },
  {
   "cell_type": "code",
   "execution_count": 24,
   "id": "1dde6c59-07e1-44c1-9f6f-639cd6a1aa3b",
   "metadata": {},
   "outputs": [
    {
     "name": "stdout",
     "output_type": "stream",
     "text": [
      "Verbs:        101,900\n",
      "Adjectives:   42,484 \n",
      "Proper Nouns: 161,717\n"
     ]
    }
   ],
   "source": [
    "print(\n",
    "    f\"Verbs:        {df_verbs.shape[0]:6,d}\\n\"\n",
    "    f\"Adjectives:   {df_adj.shape[0]:06,d} \\n\"\n",
    "    f\"Proper Nouns: {df_propn.shape[0]:6,d}\"\n",
    ")"
   ]
  },
  {
   "cell_type": "markdown",
   "id": "0f7dd451-5237-4219-92b7-2e8bab48f106",
   "metadata": {},
   "source": [
    "This gives us ~100k entries for verbs, ~42k entries for adjectives and ~160k entries for proper nouns."
   ]
  },
  {
   "cell_type": "markdown",
   "id": "e805572e-56a4-4553-a00b-f5f08cd26391",
   "metadata": {},
   "source": [
    "<a id='node_edge'></a>"
   ]
  },
  {
   "cell_type": "markdown",
   "id": "2b83231b-7f58-4da5-a37b-1f4f95b0751e",
   "metadata": {},
   "source": [
    "### 2.2. Create Nodes and Edges"
   ]
  },
  {
   "cell_type": "markdown",
   "id": "1a716137-2301-43bb-8938-0a853f8ca481",
   "metadata": {},
   "source": [
    "Next we create the nodes and edges for the network. "
   ]
  },
  {
   "cell_type": "code",
   "execution_count": 25,
   "id": "2c922d8c-d37f-4d62-b0fb-7bc99416f2e9",
   "metadata": {
    "tags": []
   },
   "outputs": [],
   "source": [
    "def create_nodes(df: pd.DataFrame, tag: str, count: int = 100) -> pd.DataFrame:\n",
    "    _df = df.copy(deep=True)\n",
    "    nodes = _df.value_counts(tag).reset_index().rename(columns={0: \"n\"})\n",
    "    nodes[\"position\"] = nodes[\"n\"].rank(ascending=False).astype(int)\n",
    "    nodes = nodes[nodes[\"position\"] <= count]\n",
    "    return nodes"
   ]
  },
  {
   "cell_type": "code",
   "execution_count": 26,
   "id": "882c38ea-7af1-464b-9a47-9e9315965d2d",
   "metadata": {},
   "outputs": [],
   "source": [
    "def create_edges(\n",
    "    df: pd.DataFrame, nodes: pd.DataFrame, tag: str, mention_n: int = 2\n",
    ") -> pd.DataFrame:\n",
    "    _df = df.merge(nodes[tag], how=\"inner\", on=tag)\n",
    "    _df[f\"n_{tag}\"] = _df.groupby(\"ids\")[tag].transform(\"count\")\n",
    "    _df = _df[_df[f\"n_{tag}\"] >= mention_n].reset_index().drop(columns=f\"n_{tag}\")\n",
    "    _df[tag] = _df[tag].astype(str)\n",
    "    _df[tag] = _df.groupby([\"ids\"])[tag].transform(lambda x: \" \".join(x))\n",
    "    _df = _df.reset_index().drop_duplicates(subset=\"ids\")[[\"ids\", tag]].reset_index(drop=True)\n",
    "    _df[tag] = _df[tag].map(str.split)\n",
    "\n",
    "    tag_pairs = [list(combinations(i, 2)) for i in _df[tag]]\n",
    "    all_tag_pairs = list(chain(*tag_pairs))\n",
    "    tag_pair_count = Counter(all_tag_pairs)\n",
    "\n",
    "    edges = pd.DataFrame.from_dict(tag_pair_count, orient=\"index\")\n",
    "    edges[f\"{tag}1\"], edges[f\"{tag}2\"] = zip(*edges.index)\n",
    "    edges.reset_index(inplace=True, drop=True)\n",
    "    edges = edges.rename(columns={0: \"value\"}).sort_values(\"value\", ascending=False)\n",
    "    cols = [f\"{tag}1\", f\"{tag}2\", \"value\"]\n",
    "    edges = edges[cols]\n",
    "    edges = (\n",
    "        edges.merge(nodes, how=\"inner\", left_on=f\"{tag}1\", right_on=tag)\n",
    "        .rename(columns={\"n\": \"source_n\"})\n",
    "        .merge(nodes, how=\"inner\", left_on=f\"{tag}2\", right_on=tag)\n",
    "        .rename(columns={\"n\": \"target_n\"})\n",
    "    )\n",
    "\n",
    "    edges[f\"{tag}1_share\"] = edges.value / edges.source_n\n",
    "    edges[f\"{tag}2_share\"] = edges.value / edges.target_n\n",
    "\n",
    "    edges = edges.query(f\"{tag}1_share>0.05 | {tag}2_share>0.05\")\n",
    "    return edges[[f\"{tag}1\", f\"{tag}2\", \"value\", f\"{tag}1_share\", f\"{tag}2_share\"]]"
   ]
  },
  {
   "cell_type": "code",
   "execution_count": 27,
   "id": "92b86367-b2c6-4cd9-8d49-7aa551d22287",
   "metadata": {},
   "outputs": [],
   "source": [
    "def create_partition(G, tag: str, nodes: pd.DataFrame) -> pd.DataFrame:\n",
    "    partition = community_louvain.best_partition(G)\n",
    "    louvain_communities = (\n",
    "        pd.DataFrame.from_dict(partition, orient=\"index\")\n",
    "        .reset_index()\n",
    "        .rename(columns={\"index\": tag, 0: \"louvain\"})\n",
    "    )\n",
    "    nodes = nodes.merge(louvain_communities, how=\"inner\", on=tag)\n",
    "    return nodes"
   ]
  },
  {
   "cell_type": "code",
   "execution_count": 28,
   "id": "e8fcdaf6-d963-4c35-aad4-226d7155594d",
   "metadata": {
    "tags": []
   },
   "outputs": [
    {
     "data": {
      "text/html": [
       "<div>\n",
       "<style scoped>\n",
       "    .dataframe tbody tr th:only-of-type {\n",
       "        vertical-align: middle;\n",
       "    }\n",
       "\n",
       "    .dataframe tbody tr th {\n",
       "        vertical-align: top;\n",
       "    }\n",
       "\n",
       "    .dataframe thead th {\n",
       "        text-align: right;\n",
       "    }\n",
       "</style>\n",
       "<table border=\"1\" class=\"dataframe\">\n",
       "  <thead>\n",
       "    <tr style=\"text-align: right;\">\n",
       "      <th></th>\n",
       "      <th>verbs</th>\n",
       "      <th>n</th>\n",
       "      <th>position</th>\n",
       "    </tr>\n",
       "  </thead>\n",
       "  <tbody>\n",
       "    <tr>\n",
       "      <th>0</th>\n",
       "      <td>have</td>\n",
       "      <td>1527</td>\n",
       "      <td>1</td>\n",
       "    </tr>\n",
       "    <tr>\n",
       "      <th>1</th>\n",
       "      <td>think</td>\n",
       "      <td>1457</td>\n",
       "      <td>2</td>\n",
       "    </tr>\n",
       "    <tr>\n",
       "      <th>2</th>\n",
       "      <td>get</td>\n",
       "      <td>1336</td>\n",
       "      <td>3</td>\n",
       "    </tr>\n",
       "    <tr>\n",
       "      <th>3</th>\n",
       "      <td>got</td>\n",
       "      <td>1331</td>\n",
       "      <td>4</td>\n",
       "    </tr>\n",
       "    <tr>\n",
       "      <th>4</th>\n",
       "      <td>know</td>\n",
       "      <td>1317</td>\n",
       "      <td>5</td>\n",
       "    </tr>\n",
       "  </tbody>\n",
       "</table>\n",
       "</div>"
      ],
      "text/plain": [
       "   verbs     n  position\n",
       "0   have  1527         1\n",
       "1  think  1457         2\n",
       "2    get  1336         3\n",
       "3    got  1331         4\n",
       "4   know  1317         5"
      ]
     },
     "execution_count": 28,
     "metadata": {},
     "output_type": "execute_result"
    }
   ],
   "source": [
    "tag = \"verbs\"\n",
    "verb_nodes = create_nodes(df_verbs, tag, 100)\n",
    "verb_nodes.head()"
   ]
  },
  {
   "cell_type": "markdown",
   "id": "26de4f0b-9145-4cf7-b973-43a22c27dec2",
   "metadata": {},
   "source": [
    "The resulting DataFrames then contain the 100 most words for their target with their respective amount and rank. We then remove some verbs that are correct, but will not give us any usefull information regarding the sentiment."
   ]
  },
  {
   "cell_type": "code",
   "execution_count": 29,
   "id": "8ac327a8-c697-414c-866f-8b34deb267ad",
   "metadata": {},
   "outputs": [],
   "source": [
    "non_words = [\n",
    "    \"have\",\n",
    "    \"think\",\n",
    "    \"know\",\n",
    "    \"got\",\n",
    "    \"get\",\n",
    "    \"happened\",\n",
    "    \"take\",\n",
    "    \"said\",\n",
    "    \"made\",\n",
    "    \"make\",\n",
    "    \"see\",\n",
    "    \"did\",\n",
    "    \"going\",\n",
    "    \"had\",\n",
    "    \"say\",\n",
    "    \"has\",\n",
    "    \"need\",\n",
    "]"
   ]
  },
  {
   "cell_type": "code",
   "execution_count": 30,
   "id": "1e1a346f-e0ba-4559-a018-1cebad335331",
   "metadata": {},
   "outputs": [
    {
     "data": {
      "text/plain": [
       "(83, 3)"
      ]
     },
     "execution_count": 30,
     "metadata": {},
     "output_type": "execute_result"
    }
   ],
   "source": [
    "verb_nodes = verb_nodes[~verb_nodes[\"verbs\"].isin(non_words)]\n",
    "verb_nodes.shape"
   ]
  },
  {
   "cell_type": "markdown",
   "id": "07362abb-a620-45d1-be5b-1e85230577db",
   "metadata": {},
   "source": [
    "With the remaining 83 words we create the edges."
   ]
  },
  {
   "cell_type": "code",
   "execution_count": 31,
   "id": "566fe2c8-8b98-4c58-b97e-869476144781",
   "metadata": {},
   "outputs": [
    {
     "data": {
      "text/html": [
       "<div>\n",
       "<style scoped>\n",
       "    .dataframe tbody tr th:only-of-type {\n",
       "        vertical-align: middle;\n",
       "    }\n",
       "\n",
       "    .dataframe tbody tr th {\n",
       "        vertical-align: top;\n",
       "    }\n",
       "\n",
       "    .dataframe thead th {\n",
       "        text-align: right;\n",
       "    }\n",
       "</style>\n",
       "<table border=\"1\" class=\"dataframe\">\n",
       "  <thead>\n",
       "    <tr style=\"text-align: right;\">\n",
       "      <th></th>\n",
       "      <th>verbs1</th>\n",
       "      <th>verbs2</th>\n",
       "      <th>value</th>\n",
       "      <th>verbs1_share</th>\n",
       "      <th>verbs2_share</th>\n",
       "    </tr>\n",
       "  </thead>\n",
       "  <tbody>\n",
       "    <tr>\n",
       "      <th>0</th>\n",
       "      <td>want</td>\n",
       "      <td>apologize</td>\n",
       "      <td>56</td>\n",
       "      <td>0.096220</td>\n",
       "      <td>0.180064</td>\n",
       "    </tr>\n",
       "    <tr>\n",
       "      <th>3</th>\n",
       "      <td>needs</td>\n",
       "      <td>apologize</td>\n",
       "      <td>44</td>\n",
       "      <td>0.081331</td>\n",
       "      <td>0.141479</td>\n",
       "    </tr>\n",
       "    <tr>\n",
       "      <th>17</th>\n",
       "      <td>apologize</td>\n",
       "      <td>apologize</td>\n",
       "      <td>23</td>\n",
       "      <td>0.073955</td>\n",
       "      <td>0.073955</td>\n",
       "    </tr>\n",
       "    <tr>\n",
       "      <th>41</th>\n",
       "      <td>assault</td>\n",
       "      <td>watch</td>\n",
       "      <td>28</td>\n",
       "      <td>0.079772</td>\n",
       "      <td>0.054264</td>\n",
       "    </tr>\n",
       "    <tr>\n",
       "      <th>42</th>\n",
       "      <td>assaulted</td>\n",
       "      <td>watch</td>\n",
       "      <td>21</td>\n",
       "      <td>0.051345</td>\n",
       "      <td>0.040698</td>\n",
       "    </tr>\n",
       "  </tbody>\n",
       "</table>\n",
       "</div>"
      ],
      "text/plain": [
       "       verbs1     verbs2  value  verbs1_share  verbs2_share\n",
       "0        want  apologize     56      0.096220      0.180064\n",
       "3       needs  apologize     44      0.081331      0.141479\n",
       "17  apologize  apologize     23      0.073955      0.073955\n",
       "41    assault      watch     28      0.079772      0.054264\n",
       "42  assaulted      watch     21      0.051345      0.040698"
      ]
     },
     "execution_count": 31,
     "metadata": {},
     "output_type": "execute_result"
    }
   ],
   "source": [
    "verb_edges = create_edges(df_verbs, verb_nodes, tag, mention_n=3)\n",
    "verb_edges.head()"
   ]
  },
  {
   "cell_type": "code",
   "execution_count": 32,
   "id": "e5f76a5d-0a48-4b65-ac14-e4acdbe0513a",
   "metadata": {},
   "outputs": [
    {
     "data": {
      "text/plain": [
       "(306, 5)"
      ]
     },
     "execution_count": 32,
     "metadata": {},
     "output_type": "execute_result"
    }
   ],
   "source": [
    "verb_edges.shape"
   ]
  },
  {
   "cell_type": "markdown",
   "id": "bfc43280-5320-48de-9abc-8af78ba9fbc9",
   "metadata": {},
   "source": [
    "For those 83 words we get 306 edges."
   ]
  },
  {
   "cell_type": "markdown",
   "id": "afd2b816-5885-4795-a8fc-3002f98e2397",
   "metadata": {},
   "source": [
    "<a id='netgraph'></a>"
   ]
  },
  {
   "cell_type": "markdown",
   "id": "424b0774-78cd-4105-88d3-1fd2e74ae6a2",
   "metadata": {},
   "source": [
    "### 2.3. Create Network Graph\n",
    "\n",
    "Now we create the final network with our nodes and edges. But before that we use the Louvain method to calculate communities."
   ]
  },
  {
   "cell_type": "code",
   "execution_count": 33,
   "id": "17b316f0-a838-461f-ac32-df67449af493",
   "metadata": {},
   "outputs": [
    {
     "data": {
      "text/html": [
       "<div>\n",
       "<style scoped>\n",
       "    .dataframe tbody tr th:only-of-type {\n",
       "        vertical-align: middle;\n",
       "    }\n",
       "\n",
       "    .dataframe tbody tr th {\n",
       "        vertical-align: top;\n",
       "    }\n",
       "\n",
       "    .dataframe thead th {\n",
       "        text-align: right;\n",
       "    }\n",
       "</style>\n",
       "<table border=\"1\" class=\"dataframe\">\n",
       "  <thead>\n",
       "    <tr style=\"text-align: right;\">\n",
       "      <th></th>\n",
       "      <th>verbs</th>\n",
       "      <th>n</th>\n",
       "      <th>position</th>\n",
       "      <th>louvain</th>\n",
       "    </tr>\n",
       "  </thead>\n",
       "  <tbody>\n",
       "    <tr>\n",
       "      <th>0</th>\n",
       "      <td>slapped</td>\n",
       "      <td>1314</td>\n",
       "      <td>6</td>\n",
       "      <td>1</td>\n",
       "    </tr>\n",
       "    <tr>\n",
       "      <th>1</th>\n",
       "      <td>slap</td>\n",
       "      <td>1099</td>\n",
       "      <td>9</td>\n",
       "      <td>1</td>\n",
       "    </tr>\n",
       "    <tr>\n",
       "      <th>2</th>\n",
       "      <td>whatjusthappened</td>\n",
       "      <td>810</td>\n",
       "      <td>19</td>\n",
       "      <td>2</td>\n",
       "    </tr>\n",
       "    <tr>\n",
       "      <th>3</th>\n",
       "      <td>slapping</td>\n",
       "      <td>729</td>\n",
       "      <td>21</td>\n",
       "      <td>3</td>\n",
       "    </tr>\n",
       "    <tr>\n",
       "      <th>4</th>\n",
       "      <td>hit</td>\n",
       "      <td>705</td>\n",
       "      <td>22</td>\n",
       "      <td>2</td>\n",
       "    </tr>\n",
       "    <tr>\n",
       "      <th>...</th>\n",
       "      <td>...</td>\n",
       "      <td>...</td>\n",
       "      <td>...</td>\n",
       "      <td>...</td>\n",
       "    </tr>\n",
       "    <tr>\n",
       "      <th>78</th>\n",
       "      <td>deserve</td>\n",
       "      <td>224</td>\n",
       "      <td>96</td>\n",
       "      <td>3</td>\n",
       "    </tr>\n",
       "    <tr>\n",
       "      <th>79</th>\n",
       "      <td>knew</td>\n",
       "      <td>221</td>\n",
       "      <td>97</td>\n",
       "      <td>1</td>\n",
       "    </tr>\n",
       "    <tr>\n",
       "      <th>80</th>\n",
       "      <td>wait</td>\n",
       "      <td>213</td>\n",
       "      <td>98</td>\n",
       "      <td>7</td>\n",
       "    </tr>\n",
       "    <tr>\n",
       "      <th>81</th>\n",
       "      <td>hear</td>\n",
       "      <td>208</td>\n",
       "      <td>99</td>\n",
       "      <td>1</td>\n",
       "    </tr>\n",
       "    <tr>\n",
       "      <th>82</th>\n",
       "      <td>deserved</td>\n",
       "      <td>205</td>\n",
       "      <td>100</td>\n",
       "      <td>1</td>\n",
       "    </tr>\n",
       "  </tbody>\n",
       "</table>\n",
       "<p>83 rows × 4 columns</p>\n",
       "</div>"
      ],
      "text/plain": [
       "               verbs     n  position  louvain\n",
       "0            slapped  1314         6        1\n",
       "1               slap  1099         9        1\n",
       "2   whatjusthappened   810        19        2\n",
       "3           slapping   729        21        3\n",
       "4                hit   705        22        2\n",
       "..               ...   ...       ...      ...\n",
       "78           deserve   224        96        3\n",
       "79              knew   221        97        1\n",
       "80              wait   213        98        7\n",
       "81              hear   208        99        1\n",
       "82          deserved   205       100        1\n",
       "\n",
       "[83 rows x 4 columns]"
      ]
     },
     "execution_count": 33,
     "metadata": {},
     "output_type": "execute_result"
    }
   ],
   "source": [
    "verb_G = nx.Graph()\n",
    "for index, row in verb_nodes.iterrows():\n",
    "    verb_G.add_node(row[tag], nodesize=row[\"n\"])\n",
    "for index, row in verb_edges.iterrows():\n",
    "    verb_G.add_edge(row[f\"{tag}1\"], row[f\"{tag}2\"], weight=row[\"value\"])\n",
    "verb_nodes_l = create_partition(verb_G, tag, verb_nodes)\n",
    "verb_nodes_l"
   ]
  },
  {
   "cell_type": "code",
   "execution_count": 34,
   "id": "9a725274-fcd8-462f-92f5-804823aafc77",
   "metadata": {},
   "outputs": [],
   "source": [
    "def draw_graph(nodes, edges, tag):\n",
    "    nt = Network(height=\"600px\", width=\"1200px\", notebook=True)\n",
    "\n",
    "    for index, row in nodes.iterrows():\n",
    "        nt.add_node(\n",
    "            n_id=row[tag],\n",
    "            value=row[\"n\"],\n",
    "            group=row[\"louvain\"],\n",
    "            shape=\"dot\",\n",
    "            title=f\"Tag: {row[tag]} \\n Rank: {row['position']}\",\n",
    "        )\n",
    "    for index, row in edges.iterrows():\n",
    "        nt.add_edge(row[f\"{tag}1\"], row[f\"{tag}2\"], weight=row[\"value\"])\n",
    "\n",
    "    # nt.show_buttons(filter_=[\"physics\"])\n",
    "    nt.barnes_hut(central_gravity=0, spring_length=500, damping=0.2)\n",
    "    nt.set_options(\n",
    "        \"\"\"\n",
    "    var options = {\n",
    "      \"physics\": {\n",
    "            \"maxVelocity\": 10,\n",
    "            \"minVelocity\": 0.75},\n",
    "      \"nodes\": {\"font\": {\"size\": 30}}\n",
    "    }\"\"\"\n",
    "    )\n",
    "    return nt.show(f\"Slapgate_{tag}.html\")"
   ]
  },
  {
   "cell_type": "code",
   "execution_count": 35,
   "id": "aa083594-9a75-4124-b16b-f9ab39a37b39",
   "metadata": {},
   "outputs": [
    {
     "data": {
      "text/html": [
       "\n",
       "        <iframe\n",
       "            width=\"1200px\"\n",
       "            height=\"600px\"\n",
       "            src=\"Slapgate_verbs.html\"\n",
       "            frameborder=\"0\"\n",
       "            allowfullscreen\n",
       "            \n",
       "        ></iframe>\n",
       "        "
      ],
      "text/plain": [
       "<IPython.lib.display.IFrame at 0x1ab2af769a0>"
      ]
     },
     "execution_count": 35,
     "metadata": {},
     "output_type": "execute_result"
    }
   ],
   "source": [
    "draw_graph(verb_nodes_l, verb_edges, tag)"
   ]
  },
  {
   "cell_type": "markdown",
   "id": "37f82301-a465-4ad6-a5c1-f15ebc59cffb",
   "metadata": {},
   "source": [
    "The first graph shows the relationship between the top 83 verbs. Although some smaller communities seem exist, no relationship can be inferred from them. So the verbs are not a good target to infer any kind of relation between the tweets."
   ]
  },
  {
   "cell_type": "code",
   "execution_count": 36,
   "id": "bfb58d79-fea4-4f01-800f-64c120740def",
   "metadata": {},
   "outputs": [],
   "source": [
    "tag = \"adjectives\"\n",
    "adj_nodes = create_nodes(df_adj, tag, 80)\n",
    "adj_edges = create_edges(df_adj, adj_nodes, tag, 2)\n",
    "adj_G = nx.Graph()\n",
    "for index, row in adj_nodes.iterrows():\n",
    "    adj_G.add_node(row[tag], nodesize=row[\"n\"])\n",
    "for index, row in adj_edges.iterrows():\n",
    "    adj_G.add_edge(row[f\"{tag}1\"], row[f\"{tag}2\"], weight=row[\"value\"])\n",
    "adj_nodes_l = create_partition(adj_G, tag, adj_nodes)"
   ]
  },
  {
   "cell_type": "code",
   "execution_count": 37,
   "id": "e0285fe3-753c-4457-b9a5-5a8599fdc7c5",
   "metadata": {},
   "outputs": [
    {
     "data": {
      "text/html": [
       "\n",
       "        <iframe\n",
       "            width=\"1200px\"\n",
       "            height=\"600px\"\n",
       "            src=\"Slapgate_adjectives.html\"\n",
       "            frameborder=\"0\"\n",
       "            allowfullscreen\n",
       "            \n",
       "        ></iframe>\n",
       "        "
      ],
      "text/plain": [
       "<IPython.lib.display.IFrame at 0x1ab2cb70a00>"
      ]
     },
     "execution_count": 37,
     "metadata": {},
     "output_type": "execute_result"
    }
   ],
   "source": [
    "draw_graph(adj_nodes_l, adj_edges, tag)"
   ]
  },
  {
   "cell_type": "markdown",
   "id": "0c362200-0a70-403d-808a-5853ca126ee9",
   "metadata": {},
   "source": [
    "Similar to the first graph the second graph also consists of some grouped communities, but those also contains no useful information. This makes the adjectives also not  not suitable for analysis. "
   ]
  },
  {
   "cell_type": "code",
   "execution_count": 38,
   "id": "edfd6380-e3b5-4ea0-b18c-8e3a75b2b81f",
   "metadata": {},
   "outputs": [],
   "source": [
    "tag = \"proper_noun\"\n",
    "propn_nodes = create_nodes(df_propn, tag, 75)\n",
    "propn_edges = create_edges(df_propn, propn_nodes, tag, 3)\n",
    "propn_G = nx.Graph()\n",
    "for index, row in propn_nodes.iterrows():\n",
    "    propn_G.add_node(row[tag], nodesize=row[\"n\"])\n",
    "for index, row in propn_edges.iterrows():\n",
    "    propn_G.add_edge(row[f\"{tag}1\"], row[f\"{tag}2\"], weight=row[\"value\"])\n",
    "propn_nodes_l = create_partition(propn_G, tag, propn_nodes)"
   ]
  },
  {
   "cell_type": "code",
   "execution_count": 39,
   "id": "aa3858e0-6ca5-4348-bb5f-f4c07b824a59",
   "metadata": {},
   "outputs": [
    {
     "data": {
      "text/html": [
       "\n",
       "        <iframe\n",
       "            width=\"1200px\"\n",
       "            height=\"600px\"\n",
       "            src=\"Slapgate_proper_noun.html\"\n",
       "            frameborder=\"0\"\n",
       "            allowfullscreen\n",
       "            \n",
       "        ></iframe>\n",
       "        "
      ],
      "text/plain": [
       "<IPython.lib.display.IFrame at 0x1ab29997c70>"
      ]
     },
     "execution_count": 39,
     "metadata": {},
     "output_type": "execute_result"
    }
   ],
   "source": [
    "draw_graph(propn_nodes_l, propn_edges, tag)"
   ]
  },
  {
   "cell_type": "markdown",
   "id": "c02e3116-f232-4ace-b8df-6e010f4b7511",
   "metadata": {},
   "source": [
    "Although the third graph might look as unstructured as the other two before, it shows a much clearer picture. It hast 5 distinct communities of which three are clear groups. One of those groups mentions the hit sitcom \"The Fresh Prince of Bel-Air\". The second group talks about the movie King Richard for which Will Smith won an Oscar as best actor. The third group talks about the Academy, awards and Hollywood.<br>\n",
    "The remaining two communities are harder to distinguish. They talk about Will Smith and Chris Rock, but also mention Will Smith's Wife Jada Pinkett Smith, her diseases, and some political topics such as Ukraine and Russia."
   ]
  },
  {
   "cell_type": "code",
   "execution_count": null,
   "id": "04d7c7d8-bc5a-491e-a405-917154161c55",
   "metadata": {
    "tags": []
   },
   "outputs": [
    {
     "data": {
      "image/png": "[encoded data removed]",
      "text/plain": [
       "<Figure size 1080x720 with 6 Axes>"
      ]
     },
     "metadata": {
      "needs_background": "light"
     },
     "output_type": "display_data"
    }
   ],
   "source": [
    "order = df[\"mymodel2_label\"].value_counts().index\n",
    "groups = [\"prince\", \"richard\", \"academy\", \"willsmith\", \"chrisrock\", \"putin\"]\n",
    "idx = 0\n",
    "rows = 3\n",
    "cols = 2\n",
    "fig, axes = plt.subplots(rows, cols, figsize=(15, 10))\n",
    "for col in range(cols):\n",
    "    for row in range(rows):\n",
    "        groups[idx]\n",
    "        _ids = df_propn[df_propn[\"proper_noun\"] == groups[idx]][\"ids\"]\n",
    "        _f_df = df[df[\"_id\"].isin(_ids)]\n",
    "        count_fig = sns.countplot(data=_f_df, x=\"mymodel2_label\", order=order, ax=axes[row, col])\n",
    "        count_fig.set(xlabel=\"Emotions\", ylabel=\"Count\")\n",
    "        axes[row, col].xaxis.set_tick_params(which=\"both\", labelleft=True)\n",
    "        axes[row, col].set_title(f\"Predictions for tweets containing the word '{groups[idx]}'\")\n",
    "        idx += 1\n",
    "fig.tight_layout()\n",
    "plt.show()"
   ]
  },
  {
   "cell_type": "markdown",
   "id": "4e213b3f-c8cb-4a05-aae6-1b8a2ca0d079",
   "metadata": {},
   "source": [
    "Looking at the distribution for some of the words of those communities, we get an idea of the sentiment towards those topics. Most tweets mentioning prince or Richard are joyful. Tweets talking about Will Smith or Chris Rock are mixed, with most of then being either joyful or angry. The two topics academy and Putin have mostly angry tweets."
   ]
  },
  {
   "cell_type": "markdown",
   "id": "b970ecec-3038-4a55-955a-c1f00cf80d07",
   "metadata": {},
   "source": [
    "---\n",
    "<a id='twitter_pos'></a>"
   ]
  },
  {
   "cell_type": "markdown",
   "id": "74a5a124-f69c-40db-962e-c7fab89f0992",
   "metadata": {},
   "source": [
    "## 3. Twitters POS\n",
    "\n",
    "After having used Spacy's POS tagger we will now take a quick look at the entities provided by Twitter itself."
   ]
  },
  {
   "cell_type": "code",
   "execution_count": null,
   "id": "e84c8840-5e8d-40e5-b6ab-788a7a5ebef2",
   "metadata": {},
   "outputs": [],
   "source": [
    "def flatten_annotations(row: list, threshold: float = 0.9):\n",
    "    results = list()\n",
    "    if not isinstance(row, list):\n",
    "        return results\n",
    "    for entry in row:\n",
    "        if entry[\"probability\"] > threshold:\n",
    "            results.append([entry[\"type\"], entry[\"normalized_text\"]])\n",
    "    return results\n",
    "\n",
    "\n",
    "def flatten_mentions(row: list):\n",
    "    results = list()\n",
    "    if not isinstance(row, list):\n",
    "        return results\n",
    "    return [entry[\"username\"] for entry in row]"
   ]
  },
  {
   "cell_type": "markdown",
   "id": "4013d521-4d3f-4dc5-b8b7-7fa0e4106acc",
   "metadata": {},
   "source": [
    "In our initial query for the Twitter API we also specified that we wanted all metrics associated with a tweet. Those metrics include entities. Entities provide metadata and additional contextual information about content of a tweet. These entities are annotations, mentions, urls and hashtags. Because we used specific hashtags for the initial query and are not interested in the urls, we will only examine the annotations and mentions."
   ]
  },
  {
   "cell_type": "code",
   "execution_count": null,
   "id": "66f79a0f-2047-4fa2-8982-266fe0efd5ef",
   "metadata": {
    "tags": []
   },
   "outputs": [
    {
     "data": {
      "text/plain": [
       "\"{'annotations': [{'start': 5, 'end': 9, 'probability': 0.9415, 'type': 'Person', 'normalized_text': 'Smith'}, {'start': 78, 'end': 87, 'probability': 0.9517, 'type': 'Person', 'normalized_text': 'Chris Rock'}, {'start': 97, 'end': 101, 'probability': 0.6711, 'type': 'Person', 'normalized_text': 'Oscar'}], 'hashtags': [{'start': 115, 'end': 125, 'tag': 'WillSmith'}, {'start': 126, 'end': 133, 'tag': 'Oscars'}]}\""
      ]
     },
     "execution_count": 42,
     "metadata": {},
     "output_type": "execute_result"
    }
   ],
   "source": [
    "df[\"entities\"][0]"
   ]
  },
  {
   "cell_type": "markdown",
   "id": "0a807f3e-e4b0-4531-a394-cdb47fabe429",
   "metadata": {},
   "source": [
    "Annotations contain different types of information such as Person, Place, Organization, Product and Other. These types have a starting- and end-position, probability and the text associated with this type."
   ]
  },
  {
   "cell_type": "code",
   "execution_count": null,
   "id": "be0b6e6d-aa93-4337-aae9-177f0e4db931",
   "metadata": {},
   "outputs": [
    {
     "data": {
      "text/plain": [
       "\"{'annotations': [{'start': 216, 'end': 220, 'probability': 0.9618, 'type': 'Person', 'normalized_text': 'Chris'}], 'hashtags': [{'start': 46, 'end': 53, 'tag': 'Oscars'}], 'mentions': [{'start': 5, 'end': 16, 'username': 'TheAcademy', 'id': '200163448'}, {'start': 19, 'end': 29, 'username': 'willsmith', 'id': '682463'}, {'start': 124, 'end': 134, 'username': 'chrisrock', 'id': '238319766'}]}\""
      ]
     },
     "execution_count": 43,
     "metadata": {},
     "output_type": "execute_result"
    }
   ],
   "source": [
    "df[\"entities\"][3]"
   ]
  },
  {
   "cell_type": "markdown",
   "id": "e34e0448-f1e3-471a-abdf-75369077a15b",
   "metadata": {},
   "source": [
    "Mentions contain the mentioned username, start- and end-position, and the users ID. "
   ]
  },
  {
   "cell_type": "code",
   "execution_count": null,
   "id": "6b6e935b-d436-43b4-853d-9489200b0577",
   "metadata": {},
   "outputs": [
    {
     "name": "stdout",
     "output_type": "stream",
     "text": [
      "167\n"
     ]
    }
   ],
   "source": [
    "counter = 0\n",
    "bad_rows = list()\n",
    "for idx, entity in enumerate(df[\"entities\"]):\n",
    "    entity = entity.replace(\"'\", '\"')\n",
    "    try:\n",
    "        entity = json.loads(entity)\n",
    "    except (AttributeError, JSONDecodeError):\n",
    "        bad_rows.append(idx)\n",
    "        counter += 1\n",
    "print(counter)\n",
    "df = df.drop(df.index[bad_rows])"
   ]
  },
  {
   "cell_type": "markdown",
   "id": "d667eb8b-3e0f-4bf8-a1d1-d7bd563a8565",
   "metadata": {},
   "source": [
    "After removing some badly formatted entries we create similar DataFrames as before."
   ]
  },
  {
   "cell_type": "code",
   "execution_count": null,
   "id": "ee42b8dd-67c0-48f0-8ee5-cb17b53c6237",
   "metadata": {},
   "outputs": [],
   "source": [
    "df_entities = pd.json_normalize(df.iloc[:, :][\"entities\"].str.replace(\"'\", '\"').apply(json.loads))\n",
    "df_entities[\"annotations\"] = df_entities[\"annotations\"].apply(flatten_annotations)\n",
    "df_entities[\"mentions\"] = df_entities[\"mentions\"].apply(flatten_mentions)"
   ]
  },
  {
   "cell_type": "code",
   "execution_count": null,
   "id": "951e5de4-dde0-4ec0-8de2-ec7e0822e087",
   "metadata": {},
   "outputs": [],
   "source": [
    "df = pd.merge(\n",
    "    df,\n",
    "    df_entities.iloc[:, [0, 3]],\n",
    "    left_index=True,\n",
    "    right_index=True,\n",
    ").drop(\"entities\", axis=1)"
   ]
  },
  {
   "cell_type": "code",
   "execution_count": 47,
   "id": "d55a4ad1-9db0-48c0-be23-4465956c4321",
   "metadata": {},
   "outputs": [
    {
     "data": {
      "application/vnd.jupyter.widget-view+json": {
       "model_id": "144b5862603b42b182049961a6ac71d7",
       "version_major": 2,
       "version_minor": 0
      },
      "text/plain": [
       "  0%|          | 0/35600 [00:00<?, ?it/s]"
      ]
     },
     "metadata": {},
     "output_type": "display_data"
    }
   ],
   "source": [
    "annotations = list()\n",
    "mentions = list()\n",
    "for idx in tqdm(range(len(df))):\n",
    "    _id = df.iloc[idx, :][\"_id\"]\n",
    "    anns = df.iloc[idx, :][\"annotations\"]\n",
    "    annotations += [[_id, an[0], an[1].lower()] for an in anns]\n",
    "    mens = df.iloc[idx, :][\"mentions\"]\n",
    "    mentions += [[_id, men.lower()] for men in mens]"
   ]
  },
  {
   "cell_type": "code",
   "execution_count": 48,
   "id": "aaec0e34-880e-432c-b44c-368315efa524",
   "metadata": {},
   "outputs": [],
   "source": [
    "df_annotations = pd.DataFrame(annotations, columns=[\"ids\", \"type\", \"pnoun\"])\n",
    "df_mentions = pd.DataFrame(mentions, columns=[\"ids\", \"mentions\"])"
   ]
  },
  {
   "cell_type": "code",
   "execution_count": 49,
   "id": "28835195-67e9-422a-9ca0-9888f8a04ae2",
   "metadata": {},
   "outputs": [
    {
     "name": "stdout",
     "output_type": "stream",
     "text": [
      "Annotations:  10,692\n",
      "Mentions:     16,072 \n",
      "\n"
     ]
    }
   ],
   "source": [
    "print(\n",
    "    f\"Annotations:  {df_annotations.shape[0]:6,d}\\n\" f\"Mentions:     {df_mentions.shape[0]:06,d} \\n\"\n",
    ")"
   ]
  },
  {
   "cell_type": "markdown",
   "id": "c13c9ec6-245b-4950-b908-b1cfdb9c2563",
   "metadata": {},
   "source": [
    "Compared to the POSs we extracted using Spacy, Twitters entities create much fewer entries. Whereas before we had ~42k, ~100k and ~160k entries, we now have only ~10k annotations and ~16k mentions."
   ]
  },
  {
   "cell_type": "code",
   "execution_count": 50,
   "id": "3f7330d6-8120-40d3-a366-1ae435a4fb2b",
   "metadata": {},
   "outputs": [],
   "source": [
    "tag = \"mentions\"\n",
    "mentions_nodes = create_nodes(df_mentions, tag, 80)\n",
    "mentions_edges = create_edges(df_mentions, mentions_nodes, tag, 2)\n",
    "mentions_G = nx.Graph()\n",
    "for index, row in mentions_nodes.iterrows():\n",
    "    mentions_G.add_node(row[tag], nodesize=row[\"n\"])\n",
    "for index, row in mentions_edges.iterrows():\n",
    "    mentions_G.add_edge(row[f\"{tag}1\"], row[f\"{tag}2\"], weight=row[\"value\"])\n",
    "mentions_nodes_l = create_partition(mentions_G, tag, mentions_nodes)"
   ]
  },
  {
   "cell_type": "code",
   "execution_count": 51,
   "id": "c29982ca-8ecb-46f2-8022-737c970a63d7",
   "metadata": {},
   "outputs": [
    {
     "data": {
      "text/html": [
       "\n",
       "        <iframe\n",
       "            width=\"1200px\"\n",
       "            height=\"600px\"\n",
       "            src=\"Slapgate_mentions.html\"\n",
       "            frameborder=\"0\"\n",
       "            allowfullscreen\n",
       "            \n",
       "        ></iframe>\n",
       "        "
      ],
      "text/plain": [
       "<IPython.lib.display.IFrame at 0x1ab2fccd370>"
      ]
     },
     "execution_count": 51,
     "metadata": {},
     "output_type": "execute_result"
    }
   ],
   "source": [
    "draw_graph(mentions_nodes_l, mentions_edges, tag)"
   ]
  },
  {
   "cell_type": "markdown",
   "id": "873842c4-468b-4199-8366-26983b054d23",
   "metadata": {},
   "source": [
    "The mentions provided by Twitter create a much more clearer network. And although the groups are more clearly separated, the interpretation turns out to be more difficult than before. Apart from the one group that mentions different news agencies, the common denominator cannot be discerned in the others."
   ]
  },
  {
   "cell_type": "code",
   "execution_count": 52,
   "id": "536da27e-e75a-47b6-bec5-6c9070a2697f",
   "metadata": {},
   "outputs": [],
   "source": [
    "tag = \"pnoun\"\n",
    "annotations_nodes = create_nodes(df_annotations, tag, 100)\n",
    "annotations_edges = create_edges(df_annotations, annotations_nodes, tag, 2)\n",
    "annotations_G = nx.Graph()\n",
    "for index, row in annotations_nodes.iterrows():\n",
    "    annotations_G.add_node(row[tag], nodesize=row[\"n\"])\n",
    "for index, row in annotations_edges.iterrows():\n",
    "    annotations_G.add_edge(row[f\"{tag}1\"], row[f\"{tag}2\"], weight=row[\"value\"])\n",
    "annotations_nodes_l = create_partition(annotations_G, tag, annotations_nodes)"
   ]
  },
  {
   "cell_type": "code",
   "execution_count": 53,
   "id": "72de868f-bc58-4bff-b19c-813a6713e451",
   "metadata": {},
   "outputs": [
    {
     "data": {
      "text/html": [
       "\n",
       "        <iframe\n",
       "            width=\"1200px\"\n",
       "            height=\"600px\"\n",
       "            src=\"Slapgate_pnoun.html\"\n",
       "            frameborder=\"0\"\n",
       "            allowfullscreen\n",
       "            \n",
       "        ></iframe>\n",
       "        "
      ],
      "text/plain": [
       "<IPython.lib.display.IFrame at 0x1ab2fd1eac0>"
      ]
     },
     "execution_count": 53,
     "metadata": {},
     "output_type": "execute_result"
    }
   ],
   "source": [
    "draw_graph(annotations_nodes_l, annotations_edges, tag)"
   ]
  },
  {
   "cell_type": "markdown",
   "id": "930bf08e-cdbf-4749-9405-31d26565a1af",
   "metadata": {},
   "source": [
    "The last graph showing the annotations has many more outliers. But those few connected nodes tell a very good story about the three distinct groups. We have one group talking about politics, mentioning Russia, Ukraine, Biden, Trump, etc. Then we have a good separation between Will Smith and Chris Rock. The group mentioning Will Smith also talks about Oprah, Beyonce, Denzel and Kanye. While the group mentioning Chris Rock talks about Jada, California and Philly. "
   ]
  },
  {
   "cell_type": "markdown",
   "id": "b62b94bc-82dd-47cb-b56a-18b80a8795e8",
   "metadata": {},
   "source": [
    "---\n",
    "<a id='result'></a>"
   ]
  },
  {
   "cell_type": "markdown",
   "id": "2fe4880b-ad1c-4a14-8caa-3b9b8869f7c9",
   "metadata": {},
   "source": [
    "## 4. Result\n",
    "\n",
    "In the end, we were able to show that an investigation of the relationships between different tweets is possible, even if the interpretation sometimes turns out to be difficult. We were able to extract different parts-of-speech and form a network by using Spacy's pre-trained pipeline. It turned out that verbs and adjectives were not very suitable and could not be used to infer relations. Proper nouns on the other hand have ensured us an insight into the topics users have talked about. In combination with the emotion predictions from the first part of the examination, we were able to do a sentiment analysis for the various topics identified.<br>\n",
    "Additionally, we showed that the entities provided by Twitter produced clearer graphs, but had much less informational content. Part of the reason for this was the much smaller dataset. "
   ]
  }
 ],
 "metadata": {
  "kernelspec": {
   "display_name": "sma",
   "language": "python",
   "name": "sma"
  },
  "language_info": {
   "codemirror_mode": {
    "name": "ipython",
    "version": 3
   },
   "file_extension": ".py",
   "mimetype": "text/x-python",
   "name": "python",
   "nbconvert_exporter": "python",
   "pygments_lexer": "ipython3",
   "version": "3.9.7"
  }
 },
 "nbformat": 4,
 "nbformat_minor": 5
}
